{
 "cells": [
  {
   "cell_type": "markdown",
   "metadata": {},
   "source": [
    "# TITULO\n",
    "____"
   ]
  },
  {
   "cell_type": "markdown",
   "metadata": {},
   "source": [
    "## 📑Descrição\n",
    "\n",
    " - Descrever o que será feito aqui...\n",
    "\n",
    " ####  Listar Hipóteses\n",
    "\n",
    "- Hipótese 1\n",
    "- Hipótese 2\n",
    "- ...\n",
    "\n",
    "#### **Entrada**:\n",
    "\n",
    "#### **Saída**:\n",
    "\n",
    "___"
   ]
  },
  {
   "cell_type": "markdown",
   "metadata": {},
   "source": [
    "## 🛢Importar libs e criar conexão com o Banco de Dados"
   ]
  },
  {
   "cell_type": "code",
   "execution_count": 1,
   "metadata": {},
   "outputs": [],
   "source": [
    "import pandas as pd\n",
    "import numpy as np\n",
    "import plotly.express as px\n",
    "import plotly.graph_objects as go"
   ]
  },
  {
   "cell_type": "markdown",
   "metadata": {},
   "source": [
    "## ⚙Preparação dos Dados"
   ]
  },
  {
   "cell_type": "code",
   "execution_count": 2,
   "metadata": {},
   "outputs": [
    {
     "ename": "FileNotFoundError",
     "evalue": "[Errno 2] No such file or directory: 'lista-inscritos-dnj-2025-diocese-de-sao-jose-dos-pinhais.csv'",
     "output_type": "error",
     "traceback": [
      "\u001b[31m---------------------------------------------------------------------------\u001b[39m",
      "\u001b[31mFileNotFoundError\u001b[39m                         Traceback (most recent call last)",
      "\u001b[36mCell\u001b[39m\u001b[36m \u001b[39m\u001b[32mIn[2]\u001b[39m\u001b[32m, line 1\u001b[39m\n\u001b[32m----> \u001b[39m\u001b[32m1\u001b[39m df_all = \u001b[43mpd\u001b[49m\u001b[43m.\u001b[49m\u001b[43mread_csv\u001b[49m\u001b[43m(\u001b[49m\u001b[33;43m'\u001b[39;49m\u001b[33;43mlista-inscritos-dnj-2025-diocese-de-sao-jose-dos-pinhais.csv\u001b[39;49m\u001b[33;43m'\u001b[39;49m\u001b[43m,\u001b[49m\u001b[43m \u001b[49m\u001b[43msep\u001b[49m\u001b[43m=\u001b[49m\u001b[33;43m'\u001b[39;49m\u001b[33;43m,\u001b[39;49m\u001b[33;43m'\u001b[39;49m\u001b[43m,\u001b[49m\u001b[43m \u001b[49m\u001b[43mencoding\u001b[49m\u001b[43m=\u001b[49m\u001b[33;43m'\u001b[39;49m\u001b[33;43mutf-8\u001b[39;49m\u001b[33;43m'\u001b[39;49m\u001b[43m)\u001b[49m\n\u001b[32m      2\u001b[39m df_all\n",
      "\u001b[36mFile \u001b[39m\u001b[32mc:\\Users\\pmirkoski\\AppData\\Local\\Programs\\Python\\Python313\\Lib\\site-packages\\pandas\\io\\parsers\\readers.py:1026\u001b[39m, in \u001b[36mread_csv\u001b[39m\u001b[34m(filepath_or_buffer, sep, delimiter, header, names, index_col, usecols, dtype, engine, converters, true_values, false_values, skipinitialspace, skiprows, skipfooter, nrows, na_values, keep_default_na, na_filter, verbose, skip_blank_lines, parse_dates, infer_datetime_format, keep_date_col, date_parser, date_format, dayfirst, cache_dates, iterator, chunksize, compression, thousands, decimal, lineterminator, quotechar, quoting, doublequote, escapechar, comment, encoding, encoding_errors, dialect, on_bad_lines, delim_whitespace, low_memory, memory_map, float_precision, storage_options, dtype_backend)\u001b[39m\n\u001b[32m   1013\u001b[39m kwds_defaults = _refine_defaults_read(\n\u001b[32m   1014\u001b[39m     dialect,\n\u001b[32m   1015\u001b[39m     delimiter,\n\u001b[32m   (...)\u001b[39m\u001b[32m   1022\u001b[39m     dtype_backend=dtype_backend,\n\u001b[32m   1023\u001b[39m )\n\u001b[32m   1024\u001b[39m kwds.update(kwds_defaults)\n\u001b[32m-> \u001b[39m\u001b[32m1026\u001b[39m \u001b[38;5;28;01mreturn\u001b[39;00m \u001b[43m_read\u001b[49m\u001b[43m(\u001b[49m\u001b[43mfilepath_or_buffer\u001b[49m\u001b[43m,\u001b[49m\u001b[43m \u001b[49m\u001b[43mkwds\u001b[49m\u001b[43m)\u001b[49m\n",
      "\u001b[36mFile \u001b[39m\u001b[32mc:\\Users\\pmirkoski\\AppData\\Local\\Programs\\Python\\Python313\\Lib\\site-packages\\pandas\\io\\parsers\\readers.py:620\u001b[39m, in \u001b[36m_read\u001b[39m\u001b[34m(filepath_or_buffer, kwds)\u001b[39m\n\u001b[32m    617\u001b[39m _validate_names(kwds.get(\u001b[33m\"\u001b[39m\u001b[33mnames\u001b[39m\u001b[33m\"\u001b[39m, \u001b[38;5;28;01mNone\u001b[39;00m))\n\u001b[32m    619\u001b[39m \u001b[38;5;66;03m# Create the parser.\u001b[39;00m\n\u001b[32m--> \u001b[39m\u001b[32m620\u001b[39m parser = \u001b[43mTextFileReader\u001b[49m\u001b[43m(\u001b[49m\u001b[43mfilepath_or_buffer\u001b[49m\u001b[43m,\u001b[49m\u001b[43m \u001b[49m\u001b[43m*\u001b[49m\u001b[43m*\u001b[49m\u001b[43mkwds\u001b[49m\u001b[43m)\u001b[49m\n\u001b[32m    622\u001b[39m \u001b[38;5;28;01mif\u001b[39;00m chunksize \u001b[38;5;129;01mor\u001b[39;00m iterator:\n\u001b[32m    623\u001b[39m     \u001b[38;5;28;01mreturn\u001b[39;00m parser\n",
      "\u001b[36mFile \u001b[39m\u001b[32mc:\\Users\\pmirkoski\\AppData\\Local\\Programs\\Python\\Python313\\Lib\\site-packages\\pandas\\io\\parsers\\readers.py:1620\u001b[39m, in \u001b[36mTextFileReader.__init__\u001b[39m\u001b[34m(self, f, engine, **kwds)\u001b[39m\n\u001b[32m   1617\u001b[39m     \u001b[38;5;28mself\u001b[39m.options[\u001b[33m\"\u001b[39m\u001b[33mhas_index_names\u001b[39m\u001b[33m\"\u001b[39m] = kwds[\u001b[33m\"\u001b[39m\u001b[33mhas_index_names\u001b[39m\u001b[33m\"\u001b[39m]\n\u001b[32m   1619\u001b[39m \u001b[38;5;28mself\u001b[39m.handles: IOHandles | \u001b[38;5;28;01mNone\u001b[39;00m = \u001b[38;5;28;01mNone\u001b[39;00m\n\u001b[32m-> \u001b[39m\u001b[32m1620\u001b[39m \u001b[38;5;28mself\u001b[39m._engine = \u001b[38;5;28;43mself\u001b[39;49m\u001b[43m.\u001b[49m\u001b[43m_make_engine\u001b[49m\u001b[43m(\u001b[49m\u001b[43mf\u001b[49m\u001b[43m,\u001b[49m\u001b[43m \u001b[49m\u001b[38;5;28;43mself\u001b[39;49m\u001b[43m.\u001b[49m\u001b[43mengine\u001b[49m\u001b[43m)\u001b[49m\n",
      "\u001b[36mFile \u001b[39m\u001b[32mc:\\Users\\pmirkoski\\AppData\\Local\\Programs\\Python\\Python313\\Lib\\site-packages\\pandas\\io\\parsers\\readers.py:1880\u001b[39m, in \u001b[36mTextFileReader._make_engine\u001b[39m\u001b[34m(self, f, engine)\u001b[39m\n\u001b[32m   1878\u001b[39m     \u001b[38;5;28;01mif\u001b[39;00m \u001b[33m\"\u001b[39m\u001b[33mb\u001b[39m\u001b[33m\"\u001b[39m \u001b[38;5;129;01mnot\u001b[39;00m \u001b[38;5;129;01min\u001b[39;00m mode:\n\u001b[32m   1879\u001b[39m         mode += \u001b[33m\"\u001b[39m\u001b[33mb\u001b[39m\u001b[33m\"\u001b[39m\n\u001b[32m-> \u001b[39m\u001b[32m1880\u001b[39m \u001b[38;5;28mself\u001b[39m.handles = \u001b[43mget_handle\u001b[49m\u001b[43m(\u001b[49m\n\u001b[32m   1881\u001b[39m \u001b[43m    \u001b[49m\u001b[43mf\u001b[49m\u001b[43m,\u001b[49m\n\u001b[32m   1882\u001b[39m \u001b[43m    \u001b[49m\u001b[43mmode\u001b[49m\u001b[43m,\u001b[49m\n\u001b[32m   1883\u001b[39m \u001b[43m    \u001b[49m\u001b[43mencoding\u001b[49m\u001b[43m=\u001b[49m\u001b[38;5;28;43mself\u001b[39;49m\u001b[43m.\u001b[49m\u001b[43moptions\u001b[49m\u001b[43m.\u001b[49m\u001b[43mget\u001b[49m\u001b[43m(\u001b[49m\u001b[33;43m\"\u001b[39;49m\u001b[33;43mencoding\u001b[39;49m\u001b[33;43m\"\u001b[39;49m\u001b[43m,\u001b[49m\u001b[43m \u001b[49m\u001b[38;5;28;43;01mNone\u001b[39;49;00m\u001b[43m)\u001b[49m\u001b[43m,\u001b[49m\n\u001b[32m   1884\u001b[39m \u001b[43m    \u001b[49m\u001b[43mcompression\u001b[49m\u001b[43m=\u001b[49m\u001b[38;5;28;43mself\u001b[39;49m\u001b[43m.\u001b[49m\u001b[43moptions\u001b[49m\u001b[43m.\u001b[49m\u001b[43mget\u001b[49m\u001b[43m(\u001b[49m\u001b[33;43m\"\u001b[39;49m\u001b[33;43mcompression\u001b[39;49m\u001b[33;43m\"\u001b[39;49m\u001b[43m,\u001b[49m\u001b[43m \u001b[49m\u001b[38;5;28;43;01mNone\u001b[39;49;00m\u001b[43m)\u001b[49m\u001b[43m,\u001b[49m\n\u001b[32m   1885\u001b[39m \u001b[43m    \u001b[49m\u001b[43mmemory_map\u001b[49m\u001b[43m=\u001b[49m\u001b[38;5;28;43mself\u001b[39;49m\u001b[43m.\u001b[49m\u001b[43moptions\u001b[49m\u001b[43m.\u001b[49m\u001b[43mget\u001b[49m\u001b[43m(\u001b[49m\u001b[33;43m\"\u001b[39;49m\u001b[33;43mmemory_map\u001b[39;49m\u001b[33;43m\"\u001b[39;49m\u001b[43m,\u001b[49m\u001b[43m \u001b[49m\u001b[38;5;28;43;01mFalse\u001b[39;49;00m\u001b[43m)\u001b[49m\u001b[43m,\u001b[49m\n\u001b[32m   1886\u001b[39m \u001b[43m    \u001b[49m\u001b[43mis_text\u001b[49m\u001b[43m=\u001b[49m\u001b[43mis_text\u001b[49m\u001b[43m,\u001b[49m\n\u001b[32m   1887\u001b[39m \u001b[43m    \u001b[49m\u001b[43merrors\u001b[49m\u001b[43m=\u001b[49m\u001b[38;5;28;43mself\u001b[39;49m\u001b[43m.\u001b[49m\u001b[43moptions\u001b[49m\u001b[43m.\u001b[49m\u001b[43mget\u001b[49m\u001b[43m(\u001b[49m\u001b[33;43m\"\u001b[39;49m\u001b[33;43mencoding_errors\u001b[39;49m\u001b[33;43m\"\u001b[39;49m\u001b[43m,\u001b[49m\u001b[43m \u001b[49m\u001b[33;43m\"\u001b[39;49m\u001b[33;43mstrict\u001b[39;49m\u001b[33;43m\"\u001b[39;49m\u001b[43m)\u001b[49m\u001b[43m,\u001b[49m\n\u001b[32m   1888\u001b[39m \u001b[43m    \u001b[49m\u001b[43mstorage_options\u001b[49m\u001b[43m=\u001b[49m\u001b[38;5;28;43mself\u001b[39;49m\u001b[43m.\u001b[49m\u001b[43moptions\u001b[49m\u001b[43m.\u001b[49m\u001b[43mget\u001b[49m\u001b[43m(\u001b[49m\u001b[33;43m\"\u001b[39;49m\u001b[33;43mstorage_options\u001b[39;49m\u001b[33;43m\"\u001b[39;49m\u001b[43m,\u001b[49m\u001b[43m \u001b[49m\u001b[38;5;28;43;01mNone\u001b[39;49;00m\u001b[43m)\u001b[49m\u001b[43m,\u001b[49m\n\u001b[32m   1889\u001b[39m \u001b[43m\u001b[49m\u001b[43m)\u001b[49m\n\u001b[32m   1890\u001b[39m \u001b[38;5;28;01massert\u001b[39;00m \u001b[38;5;28mself\u001b[39m.handles \u001b[38;5;129;01mis\u001b[39;00m \u001b[38;5;129;01mnot\u001b[39;00m \u001b[38;5;28;01mNone\u001b[39;00m\n\u001b[32m   1891\u001b[39m f = \u001b[38;5;28mself\u001b[39m.handles.handle\n",
      "\u001b[36mFile \u001b[39m\u001b[32mc:\\Users\\pmirkoski\\AppData\\Local\\Programs\\Python\\Python313\\Lib\\site-packages\\pandas\\io\\common.py:882\u001b[39m, in \u001b[36mget_handle\u001b[39m\u001b[34m(path_or_buf, mode, encoding, compression, memory_map, is_text, errors, storage_options)\u001b[39m\n\u001b[32m    873\u001b[39m         handle = \u001b[38;5;28mopen\u001b[39m(\n\u001b[32m    874\u001b[39m             handle,\n\u001b[32m    875\u001b[39m             ioargs.mode,\n\u001b[32m   (...)\u001b[39m\u001b[32m    878\u001b[39m             newline=\u001b[33m\"\u001b[39m\u001b[33m\"\u001b[39m,\n\u001b[32m    879\u001b[39m         )\n\u001b[32m    880\u001b[39m     \u001b[38;5;28;01melse\u001b[39;00m:\n\u001b[32m    881\u001b[39m         \u001b[38;5;66;03m# Binary mode\u001b[39;00m\n\u001b[32m--> \u001b[39m\u001b[32m882\u001b[39m         handle = \u001b[38;5;28;43mopen\u001b[39;49m\u001b[43m(\u001b[49m\u001b[43mhandle\u001b[49m\u001b[43m,\u001b[49m\u001b[43m \u001b[49m\u001b[43mioargs\u001b[49m\u001b[43m.\u001b[49m\u001b[43mmode\u001b[49m\u001b[43m)\u001b[49m\n\u001b[32m    883\u001b[39m     handles.append(handle)\n\u001b[32m    885\u001b[39m \u001b[38;5;66;03m# Convert BytesIO or file objects passed with an encoding\u001b[39;00m\n",
      "\u001b[31mFileNotFoundError\u001b[39m: [Errno 2] No such file or directory: 'lista-inscritos-dnj-2025-diocese-de-sao-jose-dos-pinhais.csv'"
     ]
    }
   ],
   "source": [
    "df_all = pd.read_csv('lista-inscritos-dnj-2025-diocese-de-sao-jose-dos-pinhais.csv', sep=',', encoding='utf-8')\n",
    "df_all"
   ]
  },
  {
   "cell_type": "code",
   "execution_count": null,
   "metadata": {},
   "outputs": [],
   "source": [
    "df_all.rename(columns={' Cidade': 'Cidade', 'Status': 'Situação da Inscrição'}, inplace=True)\n",
    "## Pegar somente os ultimos 4 digitos do telefone\n",
    "df_all[\"Paróquia\"] = df_all[\"Paróquia\"].fillna(\"Não informado\")\n",
    "df_all[\"Grupo\"] = df_all[\"Grupo\"].fillna(\"Não informado\")\n",
    "df_all[\"Idade\"] = df_all[\"Idade\"].fillna(0).astype(int)\n",
    "df_all[\"Cidade\"] = df_all[\"Cidade\"].fillna(\"Não informado\")\n",
    "\n",
    "df_all[\"Data de nascimento\"] = pd.to_datetime(df_all[\"Data de nascimento\"], errors='coerce')"
   ]
  },
  {
   "cell_type": "code",
   "execution_count": null,
   "metadata": {},
   "outputs": [],
   "source": [
    "## Remover os textos \"Paróquia\" da coluna Paróquia\n",
    "df_all[\"Paróquia\"] = df_all[\"Paróquia\"].str.replace(\"Paróquia \", \"\", regex=False)\n",
    "df_all[\"Paróquia\"] = df_all[\"Paróquia\"].str.replace(\"São José dos Pinhais\", \"SJP\", regex=False)"
   ]
  },
  {
   "cell_type": "code",
   "execution_count": null,
   "metadata": {},
   "outputs": [
    {
     "data": {
      "application/vnd.microsoft.datawrangler.viewer.v0+json": {
       "columns": [
        {
         "name": "index",
         "rawType": "int64",
         "type": "integer"
        },
        {
         "name": "Nome",
         "rawType": "object",
         "type": "string"
        },
        {
         "name": "Idade",
         "rawType": "int64",
         "type": "integer"
        },
        {
         "name": "Cidade",
         "rawType": "object",
         "type": "string"
        },
        {
         "name": "Paróquia",
         "rawType": "object",
         "type": "string"
        },
        {
         "name": "Grupo",
         "rawType": "object",
         "type": "string"
        },
        {
         "name": "Situação da Inscrição",
         "rawType": "object",
         "type": "string"
        }
       ],
       "ref": "2cf5e17f-6ea7-4618-9d66-1981bcea11c6",
       "rows": [
        [
         "0",
         "ADRIANO ROBERTO DE OLIVEIRA",
         "44",
         "Piên",
         "Nossa Senhora das Graças - Piên",
         "Movimento TLC",
         "Confirmada "
        ],
        [
         "1",
         "VITÓRIA CIESLINSKI DE OLIVEIRA",
         "42",
         "Piên",
         "Nossa Senhora das Graças - Piên",
         "Movimento TLC",
         "Confirmada "
        ],
        [
         "2",
         "GABRIELA APARECIDA HEIDE ",
         "23",
         "Rio Negro",
         "Senhor Bom Jesus da Coluna - Rio Negro",
         "Grupo de jovens Ágape ",
         "Confirmada "
        ],
        [
         "3",
         "VINICIUS MARTINS FERNANDES ",
         "21",
         "Rio Negro",
         "Nossa Senhora Aparecida - Rio Negro",
         "Grupo Dom de Deus / TLC Rio Negro ",
         "Confirmada "
        ],
        [
         "4",
         "EMANUELE DA SILVA LISBÃO ",
         "17",
         "Araucária",
         "Nossa Senhora das Dores Araucária - Araucária",
         "Filhos do Espírito Santo/Soldados de Maria",
         "Confirmada "
        ],
        [
         "5",
         "HELOÍSA DA SILVA FERNANDES",
         "15",
         "Rio Negro",
         "Nossa Senhora Aparecida - Rio Negro",
         "Coroinhas e Acólitos",
         "Confirmada "
        ],
        [
         "6",
         "ANA JULIA DE PAULA ROCHA ",
         "21",
         "São José dos Pinhais",
         "Não informado",
         "Não informado",
         "Pendente "
        ],
        [
         "7",
         "ANDRESSA APARECIDA CARDOSO DE LIMA",
         "26",
         "Piên",
         "Não informado",
         "Não informado",
         "Pendente "
        ],
        [
         "8",
         "MARIA EDUARDA HERZOG MOREIRA CARVALHO ",
         "17",
         "Piên",
         "Nossa Senhora das Graças - Piên",
         "Unidos por São José ",
         "Pendente "
        ],
        [
         "9",
         "PRISCILA APARECIDA PIAZ ",
         "15",
         "Rio Negro",
         "Não informado",
         "Não informado",
         "Confirmada "
        ],
        [
         "10",
         "JACQUELINE KUROVSKI",
         "24",
         "Rio Negro",
         "Não informado",
         "Não informado",
         "Confirmada "
        ],
        [
         "11",
         "BIANCA APARECIDA CASTILHO DO NASCIMENTO ",
         "18",
         "Lapa",
         "Não informado",
         "Não informado",
         "Confirmada "
        ],
        [
         "12",
         "ALISSON JOSÉ DE LIMA OBRZUT ",
         "25",
         "Campo do Tenente",
         "Não informado",
         "Não informado",
         "Confirmada "
        ],
        [
         "13",
         "LARISSA DE ANDRADE HERZER",
         "18",
         "Rio Negro",
         "Não informado",
         "Não informado",
         "Confirmada "
        ],
        [
         "14",
         "LAURA APARECIDA MEIRA DOS SANTOS ",
         "19",
         "Lapa",
         "Não informado",
         "Não informado",
         "Confirmada "
        ],
        [
         "15",
         "JUCILENE MAI ",
         "40",
         "Rio Negro",
         "Nossa Senhora Aparecida - Rio Negro",
         "Não informado",
         "Confirmada "
        ],
        [
         "16",
         "PAOLA BECKER SCHELBAUER ",
         "15",
         "Rio Negro",
         "Não informado",
         "Não informado",
         "Confirmada "
        ],
        [
         "17",
         "LARISSA BECKER SCHELBAUER ",
         "15",
         "Rio Negro",
         "Não informado",
         "Não informado",
         "Confirmada "
        ],
        [
         "18",
         "MARIA EDUARDA VALÉRIO ",
         "18",
         "Rio Negro",
         "Não informado",
         "Não informado",
         "Pendente "
        ],
        [
         "19",
         "ISABELLY DE ANDRADE HERZER ",
         "14",
         "Rio Negro",
         "Nossa Senhora Aparecida - Rio Negro",
         "Não informado",
         "Confirmada "
        ],
        [
         "20",
         "DIOGO ALEXANDRE CZARNESCKI ",
         "30",
         "Quitandinha",
         "Cristo Rei - Campo do Tenente",
         "Tlc",
         "Confirmada "
        ],
        [
         "21",
         "ISABELLA DE LORENA FERREIRA ",
         "14",
         "Lapa",
         "Não informado",
         "Não informado",
         "Confirmada "
        ],
        [
         "22",
         "ANDERSON KNAUT ",
         "25",
         "Lapa",
         "Santos Reis - Lapa",
         "Guerreiros de Santos Reis ",
         "Confirmada "
        ],
        [
         "23",
         "JESSICA MARIA LAVANDOSKI",
         "28",
         "Campo do Tenente",
         "Cristo Rei - Campo do Tenente",
         "TLC ",
         "Pendente "
        ],
        [
         "24",
         "ANDRESSA MARIA WOJCIKIEVICZ",
         "27",
         "Quitandinha",
         "Cristo Rei - Campo do Tenente",
         "Tlc",
         "Confirmada "
        ],
        [
         "25",
         "LAURA DO NASCIMENTO FIOR ",
         "16",
         "Lapa",
         "Santo Antônio - Lapa",
         "Grupo de jovens flor do carmelo ",
         "Confirmada "
        ],
        [
         "26",
         "MICHELLE LETICIA DEMBISKI",
         "1825",
         "Campo do Tenente",
         "Cristo Rei - Campo do Tenente",
         "Pascom e Cursilho",
         "Pendente "
        ],
        [
         "27",
         "MARIA EDUARDA PEREIRA PIRES ",
         "23",
         "Agudos do Sul",
         "Nossa Senhora da Conceição - Agudos do Sul",
         "Não informado",
         "Pendente "
        ],
        [
         "28",
         "GABRIELE SANDESKI",
         "19",
         "São José dos Pinhais",
         "Nossa Senhora Aparecida (Guatupê) - SJP",
         "Santa Teresinha",
         "Confirmada "
        ],
        [
         "29",
         "PAOLA ZALESKI",
         "29",
         "Campo do Tenente",
         "Não informado",
         "Não informado",
         "Confirmada "
        ],
        [
         "30",
         "SAMUEL RODRIGUES",
         "22",
         "Piên",
         "Nossa Senhora Aparecida - Rio Negro",
         "Movimento TLC DE RIO NEGRO ",
         "Confirmada "
        ],
        [
         "31",
         "SAVIO GROSSL",
         "16",
         "Rio Negro",
         "Nossa Senhora Aparecida - Rio Negro",
         ".",
         "Confirmada "
        ],
        [
         "32",
         "STEFANIE FERREIRA",
         "30",
         "São José dos Pinhais",
         "Santo Antônio - SJP",
         "Grupo de Jovens milagres ",
         "Confirmada "
        ],
        [
         "33",
         "EDUARDO HOFFMANN",
         "16",
         "Lapa",
         "Santo Antônio - Lapa",
         "Grupo  jovens flor do Carmelo ",
         "Pendente "
        ],
        [
         "34",
         "DENISE APARECIDA CORDEIRO ",
         "16",
         "Lapa",
         "Não informado",
         "Não informado",
         "Pendente "
        ],
        [
         "35",
         "CARINA GRABOWSKI ",
         "26",
         "São Mateus do Sul",
         "Não informado",
         "Não informado",
         "Confirmada "
        ],
        [
         "36",
         "MAYARA MEIRA BELINSKI ",
         "16",
         "Lapa",
         "Não informado",
         "Não informado",
         "Confirmada "
        ],
        [
         "37",
         "FLAVIANA CAROLINE HORNUNG ",
         "17",
         "Lapa",
         "Santos Reis - Lapa",
         "TLC da Lapa",
         "Confirmada "
        ],
        [
         "38",
         "ANA LUIZA ROSIN",
         "15",
         "Rio Negro",
         "Nossa Senhora Aparecida - Rio Negro",
         "Dom de Deus",
         "Confirmada "
        ],
        [
         "39",
         "HERIK PADILHA",
         "18",
         "Lapa",
         "Não informado",
         "Não informado",
         "Confirmada "
        ],
        [
         "40",
         "KAMILY CABRAL ",
         "16",
         "Piên",
         "Não informado",
         "Não informado",
         "Pendente "
        ],
        [
         "41",
         "RAFAELLA WIELESKI DOS SANTOS ",
         "19",
         "Lapa",
         "Não informado",
         "Não informado",
         "Pendente "
        ],
        [
         "42",
         "OTÁVIO AUGUSTO VICHINHESKI DE OLIVEIRA ",
         "14",
         "Rio Negro",
         "Nossa Senhora Aparecida - Rio Negro",
         "Peregrinos do Amor",
         "Confirmada "
        ],
        [
         "43",
         "PAULA GABRIELLY FERREIRA",
         "17",
         "São José dos Pinhais",
         "Santo Antônio - SJP",
         "Grupo de jovens milagres ",
         "Confirmada "
        ],
        [
         "44",
         "LUÍS ANTÔNIO FRANCO MUNDO ",
         "31",
         "São José dos Pinhais",
         "Santo Antônio - SJP",
         "Grupo de jovens milagres ",
         "Confirmada "
        ],
        [
         "45",
         "ANTONY CÉSAR DIAS BARBOSA ",
         "20",
         "Lapa",
         "Santos Reis - Lapa",
         "Não informado",
         "Confirmada "
        ],
        [
         "46",
         "LUANE CAROLINE PILATO ",
         "29",
         "São José dos Pinhais",
         "São Sebastião  - SJP",
         "Grupo Johs ",
         "Confirmada "
        ],
        [
         "47",
         "ANA SARA DA CRUZ DO PRADO",
         "15",
         "Piên",
         "Nossa Senhora Aparecida - Rio Negro",
         "Grupo de jovens DNA",
         "Confirmada "
        ],
        [
         "48",
         "DIONARA FERNANDES DE LIMA ",
         "23",
         "Campo do Tenente",
         "Cristo Rei - Campo do Tenente",
         "TLC",
         "Confirmada "
        ],
        [
         "49",
         "DANIEL DE  LIMA BATISTA",
         "23",
         "Quitandinha",
         "Não informado",
         "Jovens Unidos em Cristo JUC",
         "Confirmada "
        ]
       ],
       "shape": {
        "columns": 6,
        "rows": 1336
       }
      },
      "text/html": [
       "<div>\n",
       "<style scoped>\n",
       "    .dataframe tbody tr th:only-of-type {\n",
       "        vertical-align: middle;\n",
       "    }\n",
       "\n",
       "    .dataframe tbody tr th {\n",
       "        vertical-align: top;\n",
       "    }\n",
       "\n",
       "    .dataframe thead th {\n",
       "        text-align: right;\n",
       "    }\n",
       "</style>\n",
       "<table border=\"1\" class=\"dataframe\">\n",
       "  <thead>\n",
       "    <tr style=\"text-align: right;\">\n",
       "      <th></th>\n",
       "      <th>Nome</th>\n",
       "      <th>Idade</th>\n",
       "      <th>Cidade</th>\n",
       "      <th>Paróquia</th>\n",
       "      <th>Grupo</th>\n",
       "      <th>Situação da Inscrição</th>\n",
       "    </tr>\n",
       "  </thead>\n",
       "  <tbody>\n",
       "    <tr>\n",
       "      <th>0</th>\n",
       "      <td>ADRIANO ROBERTO DE OLIVEIRA</td>\n",
       "      <td>44</td>\n",
       "      <td>Piên</td>\n",
       "      <td>Nossa Senhora das Graças - Piên</td>\n",
       "      <td>Movimento TLC</td>\n",
       "      <td>Confirmada</td>\n",
       "    </tr>\n",
       "    <tr>\n",
       "      <th>1</th>\n",
       "      <td>VITÓRIA CIESLINSKI DE OLIVEIRA</td>\n",
       "      <td>42</td>\n",
       "      <td>Piên</td>\n",
       "      <td>Nossa Senhora das Graças - Piên</td>\n",
       "      <td>Movimento TLC</td>\n",
       "      <td>Confirmada</td>\n",
       "    </tr>\n",
       "    <tr>\n",
       "      <th>2</th>\n",
       "      <td>GABRIELA APARECIDA HEIDE</td>\n",
       "      <td>23</td>\n",
       "      <td>Rio Negro</td>\n",
       "      <td>Senhor Bom Jesus da Coluna - Rio Negro</td>\n",
       "      <td>Grupo de jovens Ágape</td>\n",
       "      <td>Confirmada</td>\n",
       "    </tr>\n",
       "    <tr>\n",
       "      <th>3</th>\n",
       "      <td>VINICIUS MARTINS FERNANDES</td>\n",
       "      <td>21</td>\n",
       "      <td>Rio Negro</td>\n",
       "      <td>Nossa Senhora Aparecida - Rio Negro</td>\n",
       "      <td>Grupo Dom de Deus / TLC Rio Negro</td>\n",
       "      <td>Confirmada</td>\n",
       "    </tr>\n",
       "    <tr>\n",
       "      <th>4</th>\n",
       "      <td>EMANUELE DA SILVA LISBÃO</td>\n",
       "      <td>17</td>\n",
       "      <td>Araucária</td>\n",
       "      <td>Nossa Senhora das Dores Araucária - Araucária</td>\n",
       "      <td>Filhos do Espírito Santo/Soldados de Maria</td>\n",
       "      <td>Confirmada</td>\n",
       "    </tr>\n",
       "    <tr>\n",
       "      <th>...</th>\n",
       "      <td>...</td>\n",
       "      <td>...</td>\n",
       "      <td>...</td>\n",
       "      <td>...</td>\n",
       "      <td>...</td>\n",
       "      <td>...</td>\n",
       "    </tr>\n",
       "    <tr>\n",
       "      <th>1331</th>\n",
       "      <td>FÁTIMA VENÂNCIO KUROVSKI</td>\n",
       "      <td>14</td>\n",
       "      <td>Piên</td>\n",
       "      <td>Nossa Senhora das Graças - Piên</td>\n",
       "      <td>Juventude de pien</td>\n",
       "      <td>Pendente</td>\n",
       "    </tr>\n",
       "    <tr>\n",
       "      <th>1332</th>\n",
       "      <td>MICHELE ALVES DA ROCHA</td>\n",
       "      <td>17</td>\n",
       "      <td>Tijucas do Sul</td>\n",
       "      <td>Nossa Senhora das Dores - Tijucas do Sul</td>\n",
       "      <td>Guerreiros da Fé</td>\n",
       "      <td>Confirmada</td>\n",
       "    </tr>\n",
       "    <tr>\n",
       "      <th>1333</th>\n",
       "      <td>MURILO GODOI BUCHELT</td>\n",
       "      <td>15</td>\n",
       "      <td>São José dos Pinhais</td>\n",
       "      <td>Nossa Senhora de Fátima - SJP</td>\n",
       "      <td>Grupo de Jovens</td>\n",
       "      <td>Confirmada</td>\n",
       "    </tr>\n",
       "    <tr>\n",
       "      <th>1334</th>\n",
       "      <td>EMANUELLA MARIAH ROCHA</td>\n",
       "      <td>14</td>\n",
       "      <td>Tijucas do Sul</td>\n",
       "      <td>Nossa Senhora das Dores - Tijucas do Sul</td>\n",
       "      <td>Guerreiros da Fé</td>\n",
       "      <td>Confirmada</td>\n",
       "    </tr>\n",
       "    <tr>\n",
       "      <th>1335</th>\n",
       "      <td>GABRIELA TAVARES DOS SANTOS</td>\n",
       "      <td>18</td>\n",
       "      <td>Fazenda Rio Grande</td>\n",
       "      <td>Não informado</td>\n",
       "      <td>Não informado</td>\n",
       "      <td>Confirmada</td>\n",
       "    </tr>\n",
       "  </tbody>\n",
       "</table>\n",
       "<p>1336 rows × 6 columns</p>\n",
       "</div>"
      ],
      "text/plain": [
       "                                Nome  Idade                Cidade  \\\n",
       "0        ADRIANO ROBERTO DE OLIVEIRA     44                  Piên   \n",
       "1     VITÓRIA CIESLINSKI DE OLIVEIRA     42                  Piên   \n",
       "2          GABRIELA APARECIDA HEIDE      23             Rio Negro   \n",
       "3        VINICIUS MARTINS FERNANDES      21             Rio Negro   \n",
       "4          EMANUELE DA SILVA LISBÃO      17             Araucária   \n",
       "...                              ...    ...                   ...   \n",
       "1331       FÁTIMA VENÂNCIO KUROVSKI      14                  Piên   \n",
       "1332          MICHELE ALVES DA ROCHA     17        Tijucas do Sul   \n",
       "1333            MURILO GODOI BUCHELT     15  São José dos Pinhais   \n",
       "1334          EMANUELLA MARIAH ROCHA     14        Tijucas do Sul   \n",
       "1335     GABRIELA TAVARES DOS SANTOS     18    Fazenda Rio Grande   \n",
       "\n",
       "                                           Paróquia  \\\n",
       "0                   Nossa Senhora das Graças - Piên   \n",
       "1                   Nossa Senhora das Graças - Piên   \n",
       "2            Senhor Bom Jesus da Coluna - Rio Negro   \n",
       "3               Nossa Senhora Aparecida - Rio Negro   \n",
       "4     Nossa Senhora das Dores Araucária - Araucária   \n",
       "...                                             ...   \n",
       "1331                Nossa Senhora das Graças - Piên   \n",
       "1332       Nossa Senhora das Dores - Tijucas do Sul   \n",
       "1333                  Nossa Senhora de Fátima - SJP   \n",
       "1334       Nossa Senhora das Dores - Tijucas do Sul   \n",
       "1335                                  Não informado   \n",
       "\n",
       "                                           Grupo Situação da Inscrição  \n",
       "0                                  Movimento TLC           Confirmada   \n",
       "1                                  Movimento TLC           Confirmada   \n",
       "2                         Grupo de jovens Ágape            Confirmada   \n",
       "3             Grupo Dom de Deus / TLC Rio Negro            Confirmada   \n",
       "4     Filhos do Espírito Santo/Soldados de Maria           Confirmada   \n",
       "...                                          ...                   ...  \n",
       "1331                           Juventude de pien             Pendente   \n",
       "1332                            Guerreiros da Fé           Confirmada   \n",
       "1333                             Grupo de Jovens           Confirmada   \n",
       "1334                            Guerreiros da Fé           Confirmada   \n",
       "1335                               Não informado            Confirmada  \n",
       "\n",
       "[1336 rows x 6 columns]"
      ]
     },
     "execution_count": 104,
     "metadata": {},
     "output_type": "execute_result"
    }
   ],
   "source": [
    "df = df_all[[\"Nome\",\"Idade\", \"Cidade\", \"Paróquia\", \"Grupo\", \"Situação da Inscrição\"]].copy()\n",
    "df"
   ]
  },
  {
   "cell_type": "code",
   "execution_count": null,
   "metadata": {},
   "outputs": [
    {
     "data": {
      "application/vnd.microsoft.datawrangler.viewer.v0+json": {
       "columns": [
        {
         "name": "index",
         "rawType": "int64",
         "type": "integer"
        },
        {
         "name": "Nome",
         "rawType": "object",
         "type": "string"
        },
        {
         "name": "Idade",
         "rawType": "int64",
         "type": "integer"
        },
        {
         "name": "Cidade",
         "rawType": "object",
         "type": "string"
        },
        {
         "name": "Paróquia",
         "rawType": "object",
         "type": "string"
        },
        {
         "name": "Grupo",
         "rawType": "object",
         "type": "string"
        },
        {
         "name": "Situação da Inscrição",
         "rawType": "object",
         "type": "string"
        }
       ],
       "ref": "91f0a443-b76f-4f9b-93d4-e7a619c0bfc6",
       "rows": [
        [
         "0",
         "ADRIANO ROBERTO DE OLIVEIRA",
         "44",
         "Piên",
         "Nossa Senhora das Graças - Piên",
         "Movimento TLC",
         "Confirmada "
        ],
        [
         "1",
         "VITÓRIA CIESLINSKI DE OLIVEIRA",
         "42",
         "Piên",
         "Nossa Senhora das Graças - Piên",
         "Movimento TLC",
         "Confirmada "
        ],
        [
         "7",
         "ANDRESSA APARECIDA CARDOSO DE LIMA",
         "26",
         "Piên",
         "Não informado",
         "Não informado",
         "Pendente "
        ],
        [
         "8",
         "MARIA EDUARDA HERZOG MOREIRA CARVALHO ",
         "17",
         "Piên",
         "Nossa Senhora das Graças - Piên",
         "Unidos por São José ",
         "Pendente "
        ],
        [
         "30",
         "SAMUEL RODRIGUES",
         "22",
         "Piên",
         "Nossa Senhora Aparecida - Rio Negro",
         "Movimento TLC DE RIO NEGRO ",
         "Confirmada "
        ],
        [
         "40",
         "KAMILY CABRAL ",
         "16",
         "Piên",
         "Não informado",
         "Não informado",
         "Pendente "
        ],
        [
         "47",
         "ANA SARA DA CRUZ DO PRADO",
         "15",
         "Piên",
         "Nossa Senhora Aparecida - Rio Negro",
         "Grupo de jovens DNA",
         "Confirmada "
        ],
        [
         "88",
         "ADRIANO TESTE",
         "44",
         "Piên",
         "Nossa Senhora das Graças - Piên",
         "Não informado",
         "Pendente "
        ],
        [
         "89",
         "NATYELY CAVALHEIRO ",
         "16",
         "Piên",
         "Não informado",
         "S",
         "Confirmada "
        ],
        [
         "96",
         "NATHALY EDUARDA DA SILVA ",
         "19",
         "Piên",
         "Não informado",
         "Não informado",
         "Pendente "
        ],
        [
         "119",
         "LUIZ HENRIQUE DE SOUZA SIQUEIRA ",
         "19",
         "Piên",
         "Não informado",
         "TLC",
         "Confirmada "
        ],
        [
         "140",
         "IGOR DANIEL BINNECK",
         "17",
         "Piên",
         "Nossa Senhora das Graças - Piên",
         "-",
         "Confirmada "
        ],
        [
         "412",
         "LUIZ RICARDO SOUZA SIQUEIRA",
         "25",
         "Piên",
         "Nossa Senhora das Graças - Piên",
         "Não informado",
         "Confirmada "
        ],
        [
         "417",
         "KEMILLY EDUARDA CAMARGO DE LIMA ",
         "16",
         "Piên",
         "Não informado",
         "Não informado",
         "Confirmada "
        ],
        [
         "418",
         "ALLAN GABRIEL NENEMANN ",
         "17",
         "Piên",
         "Não informado",
         "Não informado",
         "Confirmada "
        ],
        [
         "419",
         "JÚLIO CÉZAR DA SILVA ",
         "18",
         "Piên",
         "Não informado",
         "Não informado",
         "Confirmada "
        ],
        [
         "421",
         "LAURA LUDVINSKI MACHADO ",
         "15",
         "Piên",
         "Não informado",
         "Não informado",
         "Confirmada "
        ],
        [
         "422",
         "MARIA HELOÍSA CARDOSO ",
         "19",
         "Piên",
         "Não informado",
         "Não informado",
         "Confirmada "
        ],
        [
         "423",
         "DANIELE KETLIN PEREIRA",
         "19",
         "Piên",
         "Não informado",
         "Não informado",
         "Confirmada "
        ],
        [
         "426",
         "ELLEN FABIANE TRIBEK MACHADO ",
         "19",
         "Piên",
         "Não informado",
         "Não informado",
         "Confirmada "
        ],
        [
         "427",
         "ALISSON ELIEL GUISSMAN ",
         "20",
         "Piên",
         "Não informado",
         "Não informado",
         "Confirmada "
        ],
        [
         "439",
         "JOÃO PEDRO DE ALMEIDA DELGADO",
         "18",
         "Piên",
         "Não informado",
         "Não informado",
         "Confirmada "
        ],
        [
         "494",
         "JULIA AGNES DE OLIVEIRA",
         "19",
         "Piên",
         "Não informado",
         "Não informado",
         "Confirmada "
        ],
        [
         "507",
         "KESLY CHAIANY DOS SANTOS VIEIRA",
         "24",
         "Piên",
         "Nossa Senhora das Graças - Piên",
         "Não informado",
         "Confirmada "
        ],
        [
         "509",
         "MADELAINE KELIN DUTRA",
         "14",
         "Piên",
         "Nossa Senhora das Graças - Piên",
         "Não informado",
         "Confirmada "
        ],
        [
         "527",
         "BRYAN FAGUNDES DOS ANJOS ",
         "18",
         "Piên",
         "Nossa Senhora das Graças - Piên",
         "Juventude Piên ",
         "Confirmada "
        ],
        [
         "528",
         "FELIPE GABRIEL SIMÕES ",
         "17",
         "Piên",
         "Nossa Senhora das Graças - Piên",
         "Juventude Piên ",
         "Confirmada "
        ],
        [
         "531",
         "PIETRO DIEGO FAGUNDES DOS ANJOS ",
         "17",
         "Piên",
         "Nossa Senhora das Graças - Piên",
         "Juventude Piên ",
         "Confirmada "
        ],
        [
         "593",
         "GABRIÉLI DE FÁTIMA SCHMANSKI",
         "27",
         "Piên",
         "Não informado",
         "Não informado",
         "Confirmada "
        ],
        [
         "597",
         "BRUNO DANIEL TISCHNER",
         "18",
         "Piên",
         "Nossa Senhora das Graças - Piên",
         "Grupo de Jovens Shalom 2.0",
         "Confirmada "
        ],
        [
         "607",
         "LUIZ FERNANDO FUERST ",
         "22",
         "Piên",
         "Nossa Senhora das Graças - Piên",
         "Tlc ",
         "Confirmada "
        ],
        [
         "613",
         "NATHIELY APARECIDA FERREIRA DE OLIVEIRA",
         "14",
         "Piên",
         "Nossa Senhora das Graças - Piên",
         "Não informado",
         "Confirmada "
        ],
        [
         "620",
         "MATHEUS FERREIRA",
         "18",
         "Piên",
         "Nossa Senhora das Graças - Piên",
         "Não informado",
         "Confirmada "
        ],
        [
         "622",
         "LUANNA FERREIRA QUANDT",
         "13",
         "Piên",
         "Nossa Senhora das Graças - Piên",
         "Não informado",
         "Confirmada "
        ],
        [
         "624",
         "FABÍOLA GABRIELY MACHADO ",
         "16",
         "Piên",
         "Nossa Senhora das Graças - Piên",
         "Juventude ",
         "Confirmada "
        ],
        [
         "625",
         "FELIPE RAFAEL MACHADO",
         "21",
         "Piên",
         "Nossa Senhora das Graças - Piên",
         "Tlc juventude ",
         "Confirmada "
        ],
        [
         "631",
         "MAÍSA APARECIDA VIEIRA",
         "15",
         "Piên",
         "Nossa Senhora das Graças - Piên",
         "Juventude ",
         "Confirmada "
        ],
        [
         "632",
         "VANESSA DE FATIMA HONORIO DE ALMEIDA",
         "27",
         "Piên",
         "Nossa Senhora das Graças - Piên",
         "GJ Shalom",
         "Confirmada "
        ],
        [
         "633",
         "MARIA JULIA DE LIMA",
         "18",
         "Piên",
         "Nossa Senhora das Graças - Piên",
         "Grupo de Jovens Shalom 2.0",
         "Confirmada "
        ],
        [
         "635",
         "SARA GALVAN",
         "15",
         "Piên",
         "Nossa Senhora das Graças - Piên",
         "GJ Shalom",
         "Confirmada "
        ],
        [
         "636",
         "LYANDRA TASCHEK",
         "18",
         "Piên",
         "Nossa Senhora das Graças - Piên",
         "Não informado",
         "Confirmada "
        ],
        [
         "638",
         "TAIS GALVAN",
         "14",
         "Piên",
         "Nossa Senhora das Graças - Piên",
         "GJ Shalom",
         "Confirmada "
        ],
        [
         "639",
         "MILLENA DAMAS ROSA",
         "22",
         "Piên",
         "Nossa Senhora das Graças - Piên",
         "Grupo de Jovens Shalom",
         "Confirmada "
        ],
        [
         "640",
         "VINICIUS FELIPE DA ROCHA",
         "13",
         "Piên",
         "Nossa Senhora das Graças - Piên",
         "GJ Shalom",
         "Confirmada "
        ],
        [
         "641",
         "DIEGO FERREIRA DE OLIVEIRA",
         "17",
         "Piên",
         "Nossa Senhora das Graças - Piên",
         "GJ Shalom",
         "Confirmada "
        ],
        [
         "642",
         "KAIO HENRIQUE PATRUNI",
         "17",
         "Piên",
         "Nossa Senhora das Graças - Piên",
         "Grupo de Jovens Shalom",
         "Confirmada "
        ],
        [
         "643",
         "VITTOR KAUAN MIRANDA DA COSTA",
         "13",
         "Piên",
         "Nossa Senhora das Graças - Piên",
         "GJ Shalom",
         "Confirmada "
        ],
        [
         "644",
         "PAMELA DEOLA",
         "15",
         "Piên",
         "Nossa Senhora das Graças - Piên",
         "Não informado",
         "Confirmada "
        ],
        [
         "645",
         "LUIS HENRIQUE GUEDES",
         "17",
         "Piên",
         "Nossa Senhora das Graças - Piên",
         "Grupo de Jovens Shalom",
         "Confirmada "
        ],
        [
         "646",
         "MURILO EMANUEL DA ROCHA",
         "15",
         "Piên",
         "Nossa Senhora das Graças - Piên",
         "GJ Shalom",
         "Confirmada "
        ]
       ],
       "shape": {
        "columns": 6,
        "rows": 180
       }
      },
      "text/html": [
       "<div>\n",
       "<style scoped>\n",
       "    .dataframe tbody tr th:only-of-type {\n",
       "        vertical-align: middle;\n",
       "    }\n",
       "\n",
       "    .dataframe tbody tr th {\n",
       "        vertical-align: top;\n",
       "    }\n",
       "\n",
       "    .dataframe thead th {\n",
       "        text-align: right;\n",
       "    }\n",
       "</style>\n",
       "<table border=\"1\" class=\"dataframe\">\n",
       "  <thead>\n",
       "    <tr style=\"text-align: right;\">\n",
       "      <th></th>\n",
       "      <th>Nome</th>\n",
       "      <th>Idade</th>\n",
       "      <th>Cidade</th>\n",
       "      <th>Paróquia</th>\n",
       "      <th>Grupo</th>\n",
       "      <th>Situação da Inscrição</th>\n",
       "    </tr>\n",
       "  </thead>\n",
       "  <tbody>\n",
       "    <tr>\n",
       "      <th>0</th>\n",
       "      <td>ADRIANO ROBERTO DE OLIVEIRA</td>\n",
       "      <td>44</td>\n",
       "      <td>Piên</td>\n",
       "      <td>Nossa Senhora das Graças - Piên</td>\n",
       "      <td>Movimento TLC</td>\n",
       "      <td>Confirmada</td>\n",
       "    </tr>\n",
       "    <tr>\n",
       "      <th>1</th>\n",
       "      <td>VITÓRIA CIESLINSKI DE OLIVEIRA</td>\n",
       "      <td>42</td>\n",
       "      <td>Piên</td>\n",
       "      <td>Nossa Senhora das Graças - Piên</td>\n",
       "      <td>Movimento TLC</td>\n",
       "      <td>Confirmada</td>\n",
       "    </tr>\n",
       "    <tr>\n",
       "      <th>7</th>\n",
       "      <td>ANDRESSA APARECIDA CARDOSO DE LIMA</td>\n",
       "      <td>26</td>\n",
       "      <td>Piên</td>\n",
       "      <td>Não informado</td>\n",
       "      <td>Não informado</td>\n",
       "      <td>Pendente</td>\n",
       "    </tr>\n",
       "    <tr>\n",
       "      <th>8</th>\n",
       "      <td>MARIA EDUARDA HERZOG MOREIRA CARVALHO</td>\n",
       "      <td>17</td>\n",
       "      <td>Piên</td>\n",
       "      <td>Nossa Senhora das Graças - Piên</td>\n",
       "      <td>Unidos por São José</td>\n",
       "      <td>Pendente</td>\n",
       "    </tr>\n",
       "    <tr>\n",
       "      <th>30</th>\n",
       "      <td>SAMUEL RODRIGUES</td>\n",
       "      <td>22</td>\n",
       "      <td>Piên</td>\n",
       "      <td>Nossa Senhora Aparecida - Rio Negro</td>\n",
       "      <td>Movimento TLC DE RIO NEGRO</td>\n",
       "      <td>Confirmada</td>\n",
       "    </tr>\n",
       "    <tr>\n",
       "      <th>...</th>\n",
       "      <td>...</td>\n",
       "      <td>...</td>\n",
       "      <td>...</td>\n",
       "      <td>...</td>\n",
       "      <td>...</td>\n",
       "      <td>...</td>\n",
       "    </tr>\n",
       "    <tr>\n",
       "      <th>1260</th>\n",
       "      <td>THIAGO MARTINS DOS SANTOS</td>\n",
       "      <td>20</td>\n",
       "      <td>Piên</td>\n",
       "      <td>Nossa Senhora das Graças - Piên</td>\n",
       "      <td>shekinah</td>\n",
       "      <td>Confirmada</td>\n",
       "    </tr>\n",
       "    <tr>\n",
       "      <th>1262</th>\n",
       "      <td>DANIEL CARLOS LIEBL</td>\n",
       "      <td>15</td>\n",
       "      <td>Piên</td>\n",
       "      <td>Nossa Senhora das Graças - Piên</td>\n",
       "      <td>shekinah</td>\n",
       "      <td>Confirmada</td>\n",
       "    </tr>\n",
       "    <tr>\n",
       "      <th>1268</th>\n",
       "      <td>RAFAEL PATRICK DOS SANTOS</td>\n",
       "      <td>15</td>\n",
       "      <td>Piên</td>\n",
       "      <td>Não informado</td>\n",
       "      <td>Não informado</td>\n",
       "      <td>Confirmada</td>\n",
       "    </tr>\n",
       "    <tr>\n",
       "      <th>1317</th>\n",
       "      <td>FERNANDA DE SOUZA FREITAS</td>\n",
       "      <td>26</td>\n",
       "      <td>Piên</td>\n",
       "      <td>Nossa Senhora da Conceição - Agudos do Sul</td>\n",
       "      <td>Aliados de Acutis</td>\n",
       "      <td>Confirmada</td>\n",
       "    </tr>\n",
       "    <tr>\n",
       "      <th>1331</th>\n",
       "      <td>FÁTIMA VENÂNCIO KUROVSKI</td>\n",
       "      <td>14</td>\n",
       "      <td>Piên</td>\n",
       "      <td>Nossa Senhora das Graças - Piên</td>\n",
       "      <td>Juventude de pien</td>\n",
       "      <td>Pendente</td>\n",
       "    </tr>\n",
       "  </tbody>\n",
       "</table>\n",
       "<p>180 rows × 6 columns</p>\n",
       "</div>"
      ],
      "text/plain": [
       "                                        Nome  Idade Cidade  \\\n",
       "0                ADRIANO ROBERTO DE OLIVEIRA     44   Piên   \n",
       "1             VITÓRIA CIESLINSKI DE OLIVEIRA     42   Piên   \n",
       "7         ANDRESSA APARECIDA CARDOSO DE LIMA     26   Piên   \n",
       "8     MARIA EDUARDA HERZOG MOREIRA CARVALHO      17   Piên   \n",
       "30                          SAMUEL RODRIGUES     22   Piên   \n",
       "...                                      ...    ...    ...   \n",
       "1260              THIAGO MARTINS DOS SANTOS      20   Piên   \n",
       "1262                     DANIEL CARLOS LIEBL     15   Piên   \n",
       "1268              RAFAEL PATRICK DOS SANTOS      15   Piên   \n",
       "1317              FERNANDA DE SOUZA FREITAS      26   Piên   \n",
       "1331               FÁTIMA VENÂNCIO KUROVSKI      14   Piên   \n",
       "\n",
       "                                        Paróquia                        Grupo  \\\n",
       "0                Nossa Senhora das Graças - Piên                Movimento TLC   \n",
       "1                Nossa Senhora das Graças - Piên                Movimento TLC   \n",
       "7                                  Não informado                Não informado   \n",
       "8                Nossa Senhora das Graças - Piên         Unidos por São José    \n",
       "30           Nossa Senhora Aparecida - Rio Negro  Movimento TLC DE RIO NEGRO    \n",
       "...                                          ...                          ...   \n",
       "1260             Nossa Senhora das Graças - Piên                     shekinah   \n",
       "1262             Nossa Senhora das Graças - Piên                     shekinah   \n",
       "1268                               Não informado                Não informado   \n",
       "1317  Nossa Senhora da Conceição - Agudos do Sul           Aliados de Acutis    \n",
       "1331             Nossa Senhora das Graças - Piên            Juventude de pien   \n",
       "\n",
       "     Situação da Inscrição  \n",
       "0              Confirmada   \n",
       "1              Confirmada   \n",
       "7                Pendente   \n",
       "8                Pendente   \n",
       "30             Confirmada   \n",
       "...                    ...  \n",
       "1260           Confirmada   \n",
       "1262           Confirmada   \n",
       "1268           Confirmada   \n",
       "1317           Confirmada   \n",
       "1331             Pendente   \n",
       "\n",
       "[180 rows x 6 columns]"
      ]
     },
     "execution_count": 105,
     "metadata": {},
     "output_type": "execute_result"
    }
   ],
   "source": [
    "df[(df[\"Nome\"] == \"Não informado\") | (df[\"Cidade\"] == \"Piên\")]\n"
   ]
  },
  {
   "cell_type": "markdown",
   "metadata": {},
   "source": [
    "## 🕵️‍♂️Análise Exploratória"
   ]
  },
  {
   "cell_type": "code",
   "execution_count": null,
   "metadata": {},
   "outputs": [],
   "source": [
    "## Incluir análises estatísticas:"
   ]
  },
  {
   "cell_type": "markdown",
   "metadata": {},
   "source": [
    "## 📈Visualizações gráficas"
   ]
  },
  {
   "cell_type": "code",
   "execution_count": null,
   "metadata": {},
   "outputs": [],
   "source": [
    "## Incluir gráficos:"
   ]
  },
  {
   "cell_type": "markdown",
   "metadata": {},
   "source": [
    "## 💾Salvar arquivo final"
   ]
  },
  {
   "cell_type": "code",
   "execution_count": null,
   "metadata": {},
   "outputs": [],
   "source": [
    "## Salvar \n",
    "\n",
    "df.to_excel('../lista_inscritos/lista-inscritos-dnj-2025-diocese-de-sao-jose-dos-pinhais-tratado.xlsx', index=False)"
   ]
  },
  {
   "cell_type": "markdown",
   "metadata": {},
   "source": [
    "## 🔚Conclusão"
   ]
  },
  {
   "cell_type": "code",
   "execution_count": null,
   "metadata": {},
   "outputs": [],
   "source": [
    "## Incluir resumo da análise:"
   ]
  }
 ],
 "metadata": {
  "kernelspec": {
   "display_name": "Python 3",
   "language": "python",
   "name": "python3"
  },
  "language_info": {
   "codemirror_mode": {
    "name": "ipython",
    "version": 3
   },
   "file_extension": ".py",
   "mimetype": "text/x-python",
   "name": "python",
   "nbconvert_exporter": "python",
   "pygments_lexer": "ipython3",
   "version": "3.13.5"
  }
 },
 "nbformat": 4,
 "nbformat_minor": 2
}
